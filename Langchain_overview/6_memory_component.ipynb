{
 "cells": [
  {
   "cell_type": "markdown",
   "metadata": {},
   "source": [
    "## Memory Component\n",
    "\n",
    "After receiving the initial user input and before executing the core logic, the chain reads the history from the memory component to enhance the user input. After executing the core logic and before returning the answer, the chain writes the current interaction's input and output into memory to update the conversation history."
   ]
  },
  {
   "cell_type": "markdown",
   "metadata": {},
   "source": [
    "### ConversationBufferMemory\n",
    "\n",
    "`ConversationBufferMemory` is a memory component class provided by LangChain. It accurately records conversation history messages in a list. However, as interactions increase and the number of characters grows, the character count of the conversation history may cause the token count of the enhanced prompt to exceed the context limit, eventually leading to model call failure."
   ]
  },
  {
   "cell_type": "code",
   "execution_count": 3,
   "metadata": {},
   "outputs": [],
   "source": [
    "from langchain.memory import ConversationBufferMemory\n",
    "\n",
    "memory = ConversationBufferMemory()\n",
    "memory.save_context(\n",
    "    {\"input\": \"Hi! I am Johnson.\"},\n",
    "    {\"output\": \"Hi, Johnson!\"}\n",
    "    )"
   ]
  },
  {
   "cell_type": "code",
   "execution_count": 4,
   "metadata": {},
   "outputs": [
    {
     "data": {
      "text/plain": [
       "[HumanMessage(content='I am Johnson.'), AIMessage(content='Hi, Johnson!')]"
      ]
     },
     "execution_count": 4,
     "metadata": {},
     "output_type": "execute_result"
    }
   ],
   "source": [
    "memory.chat_memory.messages"
   ]
  },
  {
   "cell_type": "code",
   "execution_count": 5,
   "metadata": {},
   "outputs": [
    {
     "data": {
      "text/plain": [
       "{'history': 'Human: I am Johnson.\\nAI: Hi, Johnson!'}"
      ]
     },
     "execution_count": 5,
     "metadata": {},
     "output_type": "execute_result"
    }
   ],
   "source": [
    "memory.load_memory_variables({})"
   ]
  },
  {
   "cell_type": "markdown",
   "metadata": {},
   "source": [
    "## ConversationBufferWindowMemory\n",
    "\n",
    "`ConversationBufferWindowMemory` continuously records conversation history but only uses the most recent K interactions. This sliding window mechanism ensures that the cache size does not become too large."
   ]
  },
  {
   "cell_type": "code",
   "execution_count": 6,
   "metadata": {},
   "outputs": [],
   "source": [
    "from langchain.memory import ConversationBufferWindowMemory\n",
    "\n",
    "memory = ConversationBufferWindowMemory(k=5)\n",
    "memory.save_context(\n",
    "    {\"input\": \"Hi! I am Johnson.\"},\n",
    "    {\"output\":\"Hi, Johnson!\"}\n",
    ") \n",
    "memory.save_context(\n",
    "    {\"input\": \"I am from Taiwan\"},\n",
    "    {\"output\":\"Wow! Taiwan is a great country!\"}\n",
    ") "
   ]
  },
  {
   "cell_type": "code",
   "execution_count": 7,
   "metadata": {},
   "outputs": [
    {
     "data": {
      "text/plain": [
       "{'history': 'Human: Hi! I am Johnson.\\nAI: Hi, Johnson!\\nHuman: I am from Taiwan\\nAI: Wow! Taiwan is a great country!'}"
      ]
     },
     "execution_count": 7,
     "metadata": {},
     "output_type": "execute_result"
    }
   ],
   "source": [
    "memory.load_memory_variables({})"
   ]
  },
  {
   "cell_type": "code",
   "execution_count": 8,
   "metadata": {},
   "outputs": [
    {
     "data": {
      "text/plain": [
       "[HumanMessage(content='Hi! I am Johnson.'),\n",
       " AIMessage(content='Hi, Johnson!'),\n",
       " HumanMessage(content='I am from Taiwan'),\n",
       " AIMessage(content='Wow! Taiwan is a great country!')]"
      ]
     },
     "execution_count": 8,
     "metadata": {},
     "output_type": "execute_result"
    }
   ],
   "source": [
    "memory.chat_memory.messages"
   ]
  },
  {
   "cell_type": "markdown",
   "metadata": {},
   "source": [
    "### CoversationSummaryMemory\n",
    "\n",
    "`ConversationSummaryMemory` is a slightly more complex type of memory. This memory summarizes the content of the conversation over time and stores the current summary in memory. It then injects the conversation summary into the prompt or chain when needed. `ConversationSummaryMemory` is useful for longer conversation interactions because including past history verbatim in the prompt would consume too many tokens."
   ]
  },
  {
   "cell_type": "code",
   "execution_count": 9,
   "metadata": {},
   "outputs": [],
   "source": [
    "from langchain.memory import ConversationSummaryMemory\n",
    "from langchain.chat_models import ChatOpenAI\n",
    "\n",
    "chat_model = ChatOpenAI(temperature=0)\n",
    "memory = ConversationSummaryMemory(llm=chat_model)\n",
    "memory.save_context(\n",
    "    {\"input\": \"Hi! I am Johnson.\"},\n",
    "    {\"output\":\"Hi, Johnson!\"}\n",
    ") \n",
    "memory.save_context(\n",
    "    {\"input\": \"I am from Taiwan\"},\n",
    "    {\"output\":\"Wow! Taiwan is a great country!\"}\n",
    ") \n",
    "memory.save_context(\n",
    "    {\"input\": \"Tell me what you know about Taiwan.\"},\n",
    "    {\"output\":\"Taiwan, an island nation off China's coast, has a vibrant democracy, strong economy, and complex political status with China.\"}\n",
    ")\n"
   ]
  },
  {
   "cell_type": "code",
   "execution_count": 10,
   "metadata": {},
   "outputs": [
    {
     "data": {
      "text/plain": [
       "{'history': \"Johnson introduces himself as being from Taiwan, to which the AI responds with enthusiasm about the country. The AI shares that Taiwan is an island nation off China's coast with a vibrant democracy, strong economy, and complex political status with China.\"}"
      ]
     },
     "execution_count": 10,
     "metadata": {},
     "output_type": "execute_result"
    }
   ],
   "source": [
    "memory.load_memory_variables({})"
   ]
  },
  {
   "cell_type": "markdown",
   "metadata": {},
   "source": [
    "The following image illustrates the token overhead trend of conversation history information generated by different types of memory components as conversation interactions increase.\n",
    "\n",
    "![images](docs/memory.png)"
   ]
  }
 ],
 "metadata": {
  "kernelspec": {
   "display_name": "rag",
   "language": "python",
   "name": "python3"
  },
  "language_info": {
   "codemirror_mode": {
    "name": "ipython",
    "version": 3
   },
   "file_extension": ".py",
   "mimetype": "text/x-python",
   "name": "python",
   "nbconvert_exporter": "python",
   "pygments_lexer": "ipython3",
   "version": "3.11.9"
  }
 },
 "nbformat": 4,
 "nbformat_minor": 2
}
