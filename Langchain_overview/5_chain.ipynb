{
 "cells": [
  {
   "cell_type": "markdown",
   "metadata": {},
   "source": [
    "## Basic LLM Chain\n",
    "\n",
    "`LLMChain` accepts the following components:\n",
    "\n",
    "- LLM\n",
    "- Prompt Template\n",
    "\n",
    "`LLMChain` returns the response from the LLM."
   ]
  },
  {
   "cell_type": "markdown",
   "metadata": {},
   "source": [
    "### Import Pakages"
   ]
  },
  {
   "cell_type": "code",
   "execution_count": 1,
   "metadata": {},
   "outputs": [],
   "source": [
    "import os\n",
    "import openai\n",
    "from langchain.chat_models import ChatOpenAI\n",
    "from langchain.prompts import PromptTemplate\n",
    "\n",
    "openai.api_key = os.environ['OPENAI_API_KEY']"
   ]
  },
  {
   "cell_type": "code",
   "execution_count": 2,
   "metadata": {},
   "outputs": [],
   "source": [
    "llm = ChatOpenAI(temperature=0, model='gpt-3.5-turbo')\n",
    "\n",
    "prompt = PromptTemplate(\n",
    "    input_variables=[\"animal\"],\n",
    "    template=\"What is the color of {animal}\"\n",
    ")"
   ]
  },
  {
   "cell_type": "markdown",
   "metadata": {},
   "source": [
    "### Create Chain"
   ]
  },
  {
   "cell_type": "code",
   "execution_count": 3,
   "metadata": {},
   "outputs": [],
   "source": [
    "from langchain.chains import LLMChain\n",
    "\n",
    "chain = LLMChain(llm=llm, prompt=prompt)"
   ]
  },
  {
   "cell_type": "markdown",
   "metadata": {},
   "source": [
    "### Chain-based questioning"
   ]
  },
  {
   "cell_type": "code",
   "execution_count": 5,
   "metadata": {},
   "outputs": [
    {
     "name": "stdout",
     "output_type": "stream",
     "text": [
      "The color of a tiger is typically orange with black stripes.\n",
      "Frogs can come in a variety of colors, including green, brown, red, blue, yellow, and even black. The most common color of frogs is green, which helps them blend in with their surroundings.\n",
      "The color of a polar bear is white.\n"
     ]
    }
   ],
   "source": [
    "print(chain.run(\"tiger\"))\n",
    "print(chain.run(\"frog\"))\n",
    "print(chain.run(\"polar bear\"))"
   ]
  },
  {
   "cell_type": "markdown",
   "metadata": {},
   "source": [
    "## Sequential Chains\n",
    "\n",
    "Sequential chain can combine muitiple chains where the output of the one chain is the input of the next chain."
   ]
  },
  {
   "cell_type": "code",
   "execution_count": 20,
   "metadata": {},
   "outputs": [],
   "source": [
    "from langchain.chains import SimpleSequentialChain\n",
    "\n",
    "first_prompt = PromptTemplate.from_template(\n",
    "    \"What is the most famous movie of {topic}?\"\n",
    ")\n",
    "\n",
    "first_chain = LLMChain(llm=llm, prompt=first_prompt)"
   ]
  },
  {
   "cell_type": "code",
   "execution_count": 21,
   "metadata": {},
   "outputs": [],
   "source": [
    "second_prompt = PromptTemplate.from_template(\n",
    "    \"Write 3 reasons why the {movie} is famous.\"\n",
    ")\n",
    "\n",
    "second_chain = LLMChain(llm=llm, prompt=second_prompt)"
   ]
  },
  {
   "cell_type": "code",
   "execution_count": 22,
   "metadata": {},
   "outputs": [],
   "source": [
    "overall_simple_chain = SimpleSequentialChain(\n",
    "    chains=[first_chain, second_chain],\n",
    "    verbose=True\n",
    "    )"
   ]
  },
  {
   "cell_type": "code",
   "execution_count": 23,
   "metadata": {},
   "outputs": [
    {
     "name": "stdout",
     "output_type": "stream",
     "text": [
      "\n",
      "\n",
      "\u001b[1m> Entering new SimpleSequentialChain chain...\u001b[0m\n",
      "\u001b[36;1m\u001b[1;3mOne of the most famous superhero movies is \"The Dark Knight\" (2008), directed by Christopher Nolan and starring Christian Bale as Batman. This film is widely regarded as one of the best superhero movies of all time and received critical acclaim for its dark and gritty take on the iconic character.\u001b[0m\n",
      "\u001b[33;1m\u001b[1;3m1. Groundbreaking Performance: Christian Bale's portrayal of Batman/Bruce Wayne in \"The Dark Knight\" is widely considered one of the best performances of a superhero character in film history. His intense and brooding portrayal added depth and complexity to the character, making him more relatable and human than ever before.\n",
      "\n",
      "2. Iconic Villain: Heath Ledger's performance as the Joker in \"The Dark Knight\" is often cited as one of the greatest performances in cinematic history. Ledger's portrayal of the iconic villain was chilling, unpredictable, and mesmerizing, earning him a posthumous Academy Award for Best Supporting Actor. The Joker's presence in the film added a level of tension and excitement that elevated the movie to new heights.\n",
      "\n",
      "3. Innovative Storytelling: Director Christopher Nolan's unique vision and storytelling techniques set \"The Dark Knight\" apart from other superhero movies. Nolan's dark and gritty take on the Batman mythos, combined with his use of practical effects and non-linear storytelling, created a more realistic and immersive world for the characters to inhabit. The film's complex themes of morality, chaos, and the nature of heroism resonated with audiences and critics alike, cementing its status as a modern classic.\u001b[0m\n",
      "\n",
      "\u001b[1m> Finished chain.\u001b[0m\n"
     ]
    },
    {
     "data": {
      "text/plain": [
       "'1. Groundbreaking Performance: Christian Bale\\'s portrayal of Batman/Bruce Wayne in \"The Dark Knight\" is widely considered one of the best performances of a superhero character in film history. His intense and brooding portrayal added depth and complexity to the character, making him more relatable and human than ever before.\\n\\n2. Iconic Villain: Heath Ledger\\'s performance as the Joker in \"The Dark Knight\" is often cited as one of the greatest performances in cinematic history. Ledger\\'s portrayal of the iconic villain was chilling, unpredictable, and mesmerizing, earning him a posthumous Academy Award for Best Supporting Actor. The Joker\\'s presence in the film added a level of tension and excitement that elevated the movie to new heights.\\n\\n3. Innovative Storytelling: Director Christopher Nolan\\'s unique vision and storytelling techniques set \"The Dark Knight\" apart from other superhero movies. Nolan\\'s dark and gritty take on the Batman mythos, combined with his use of practical effects and non-linear storytelling, created a more realistic and immersive world for the characters to inhabit. The film\\'s complex themes of morality, chaos, and the nature of heroism resonated with audiences and critics alike, cementing its status as a modern classic.'"
      ]
     },
     "execution_count": 23,
     "metadata": {},
     "output_type": "execute_result"
    }
   ],
   "source": [
    "overall_simple_chain.run(\"superhero\")"
   ]
  }
 ],
 "metadata": {
  "kernelspec": {
   "display_name": "rag",
   "language": "python",
   "name": "python3"
  },
  "language_info": {
   "codemirror_mode": {
    "name": "ipython",
    "version": 3
   },
   "file_extension": ".py",
   "mimetype": "text/x-python",
   "name": "python",
   "nbconvert_exporter": "python",
   "pygments_lexer": "ipython3",
   "version": "3.11.9"
  }
 },
 "nbformat": 4,
 "nbformat_minor": 2
}
