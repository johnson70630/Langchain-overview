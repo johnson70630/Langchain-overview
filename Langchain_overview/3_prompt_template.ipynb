{
 "cells": [
  {
   "cell_type": "markdown",
   "metadata": {},
   "source": [
    "## Prompt Template\n",
    "Prompt templates provide a mechanism for reusable prompts. Users can instantiate a prompt by passing a set of parameters to the template. A prompt template can include:\n",
    "\n",
    "- Instructions for the language model\n",
    "- A set of few-shot examples to help the language model generate better responses\n",
    "- The question posed to the language model"
   ]
  },
  {
   "cell_type": "markdown",
   "metadata": {},
   "source": [
    "### Create Templates\n",
    "The `PromptTemplate` class is the foundational template class provided by LangChain. It takes two parameters:\n",
    "\n",
    "- `input_variables`\n",
    "- `template` \n",
    "\n",
    "In the template, input variables are referenced using `{}` symbols. The instantiation of a template is achieved through the `format` function of the template class instance."
   ]
  },
  {
   "cell_type": "code",
   "execution_count": 1,
   "metadata": {},
   "outputs": [
    {
     "data": {
      "text/plain": [
       "'\\nYou are proficient in multiple languages.\\nYour work is translating English to Spanish. \\n'"
      ]
     },
     "execution_count": 1,
     "metadata": {},
     "output_type": "execute_result"
    }
   ],
   "source": [
    "from langchain import PromptTemplate\n",
    "\n",
    "template = \"\"\"\n",
    "You are proficient in multiple languages.\n",
    "Your work is translating {language_1} to {language_2}. \n",
    "\"\"\"\n",
    "\n",
    "prompt = PromptTemplate.from_template(template)\n",
    "prompt.format(language_1=\"English\", language_2=\"Spanish\")"
   ]
  },
  {
   "cell_type": "code",
   "execution_count": 2,
   "metadata": {},
   "outputs": [
    {
     "data": {
      "text/plain": [
       "'A cyberpunk Taipei'"
      ]
     },
     "execution_count": 2,
     "metadata": {},
     "output_type": "execute_result"
    }
   ],
   "source": [
    "multiple_input_prompt = PromptTemplate(\n",
    "    input_variables=[\"style\", \"city\"],\n",
    "    template=\"A {style} {city}\"\n",
    ")\n",
    "\n",
    "multiple_input_prompt.format(style=\"cyberpunk\", city=\"Taipei\")"
   ]
  },
  {
   "cell_type": "markdown",
   "metadata": {},
   "source": [
    "### Chat Prompt Templates\n",
    "\n",
    "LangChain provides a series of templates to more easily construct and handle prompts. The `SystemMessagePromptTemplate`, `AIMessagePromptTemplate`, and `HumanMessagePromptTemplate` are templates used to create prompts for different roles."
   ]
  },
  {
   "cell_type": "code",
   "execution_count": 3,
   "metadata": {},
   "outputs": [],
   "source": [
    "from langchain.prompts import (\n",
    "    ChatPromptTemplate,\n",
    "    PromptTemplate,\n",
    "    SystemMessagePromptTemplate,\n",
    "    AIMessagePromptTemplate,\n",
    "    HumanMessagePromptTemplate\n",
    ")\n",
    "\n",
    "from langchain.schema import (\n",
    "    AIMessage,\n",
    "    HumanMessage,\n",
    "    SystemMessage\n",
    ")"
   ]
  },
  {
   "cell_type": "code",
   "execution_count": 4,
   "metadata": {},
   "outputs": [],
   "source": [
    "system_template = \"\"\"\n",
    "You are proficient in multiple languages.\n",
    "Your work is translating {language_1} to {language_2}. \n",
    "\"\"\"\n",
    "\n",
    "system_message_prompt = SystemMessagePromptTemplate.from_template(system_template)"
   ]
  },
  {
   "cell_type": "code",
   "execution_count": 5,
   "metadata": {},
   "outputs": [],
   "source": [
    "human_template = \"{user_input}\"\n",
    "\n",
    "human_message_prompt = HumanMessagePromptTemplate.from_template(human_template)"
   ]
  },
  {
   "cell_type": "code",
   "execution_count": 6,
   "metadata": {},
   "outputs": [
    {
     "data": {
      "text/plain": [
       "[SystemMessage(content='\\nYou are proficient in multiple languages.\\nYour work is translating English to Spanish. \\n'),\n",
       " HumanMessage(content='What is Deep Learninig?')]"
      ]
     },
     "execution_count": 6,
     "metadata": {},
     "output_type": "execute_result"
    }
   ],
   "source": [
    "chat_prompt = ChatPromptTemplate.from_messages([system_message_prompt, human_message_prompt])\n",
    "chat_prompt.format_prompt(\n",
    "    language_1=\"English\",\n",
    "    language_2=\"Spanish\",\n",
    "    user_input=\"What is Deep Learninig?\"\n",
    ").to_messages()"
   ]
  },
  {
   "cell_type": "markdown",
   "metadata": {},
   "source": [
    "### Example Selector\n",
    "\n",
    "`LangChain` provides the base interface class for example selectors, `BaseExampleSelector`, and each selector class must implement the function `select_examples`. LangChain has implemented several selectors based on different application scenarios or algorithms:\n",
    "\n",
    "- `LengthBasedExampleSelector`\n",
    "- `MaxMarginalRelevanceExampleSelector`\n",
    "- `NGramOverlapExampleSelector`\n",
    "- `SemanticSimilarityExampleSelector`"
   ]
  },
  {
   "cell_type": "code",
   "execution_count": 7,
   "metadata": {},
   "outputs": [
    {
     "name": "stdout",
     "output_type": "stream",
     "text": [
      "Give the antonym of every input\n",
      "\n",
      "Input: black\n",
      "Output: white\n",
      "\n",
      "Input: happy\n",
      "Output: sad\n",
      "\n",
      "Input: long\n",
      "Output: short\n",
      "\n",
      "Input: handsome\n",
      "Output:\n"
     ]
    }
   ],
   "source": [
    "from langchain.prompts import PromptTemplate, FewShotPromptTemplate\n",
    "from langchain.prompts.example_selector import LengthBasedExampleSelector\n",
    "\n",
    "examples = [\n",
    "    {\"input\": \"black\", \"output\":\"white\"},\n",
    "    {\"input\": \"happy\", \"output\":\"sad\"},\n",
    "    {\"input\": \"long\", \"output\":\"short\"},\n",
    "]\n",
    "\n",
    "example_prompt = PromptTemplate(\n",
    "    input_variables=[\"input\", \"output\"],\n",
    "    template=\"Input: {input}\\nOutput: {output}\"\n",
    ")\n",
    "\n",
    "example_seletor = LengthBasedExampleSelector(\n",
    "    examples=examples,\n",
    "    example_prompt=example_prompt,\n",
    "    max_length=20\n",
    ")\n",
    "\n",
    "dynamic_promt = FewShotPromptTemplate(\n",
    "    example_selector=example_seletor,\n",
    "    example_prompt=example_prompt,\n",
    "    prefix=\"Give the antonym of every input\",\n",
    "    suffix=\"Input: {adjective}\\nOutput:\",\n",
    "    input_variables=[\"adjective\"]\n",
    ")\n",
    "\n",
    "print(dynamic_promt.format(adjective=\"handsome\"))"
   ]
  }
 ],
 "metadata": {
  "kernelspec": {
   "display_name": "Python 3 (ipykernel)",
   "language": "python",
   "name": "python3"
  },
  "language_info": {
   "codemirror_mode": {
    "name": "ipython",
    "version": 3
   },
   "file_extension": ".py",
   "mimetype": "text/x-python",
   "name": "python",
   "nbconvert_exporter": "python",
   "pygments_lexer": "ipython3",
   "version": "3.11.9"
  }
 },
 "nbformat": 4,
 "nbformat_minor": 2
}
