{
 "cells": [
  {
   "cell_type": "markdown",
   "metadata": {},
   "source": [
    "## Output Parser\n",
    "\n",
    "LangChain provides the base class `BaseOutputParser` for output parsers. Different output parsers inherit from this class. They need to implement the following two functions:\n",
    "\n",
    "- `get_format_instructions`: Returns instructions specifying how the LLM's output should be formatted. This function must be overridden in the implementing class.\n",
    "\n",
    "- `parse`: Parses the LLM's output text into a specific structure."
   ]
  },
  {
   "cell_type": "markdown",
   "metadata": {},
   "source": [
    "`BaseOutputParser` also provides the following function for overriding:\n",
    "\n",
    "`parse_with_prompt`: Parses the LLM's output text into a specific structure based on the prompt context. The implementation of this function in the base class is as follows:"
   ]
  },
  {
   "cell_type": "markdown",
   "metadata": {},
   "source": [
    "The LangChain framework provides a series of parser implementations to meet the needs of different functional scenarios\n",
    "\n",
    "- List parser\n",
    "- Datetime parser\n",
    "- Enum parser\n",
    "- Auto-fixing parser\n",
    "- Pydantic parser\n",
    "- Retry parser\n",
    "- Structured output parser"
   ]
  },
  {
   "cell_type": "markdown",
   "metadata": {},
   "source": [
    "### List Parser\n",
    "The List Parser parses comma-separated text into a list."
   ]
  },
  {
   "cell_type": "code",
   "execution_count": 1,
   "metadata": {},
   "outputs": [
    {
     "data": {
      "text/plain": [
       "['Taipei', 'New Taipei', 'Toayuan', 'Keelung']"
      ]
     },
     "execution_count": 1,
     "metadata": {},
     "output_type": "execute_result"
    }
   ],
   "source": [
    "from langchain.output_parsers import CommaSeparatedListOutputParser\n",
    "\n",
    "output_parser = CommaSeparatedListOutputParser()\n",
    "output_parser.parse(\"Taipei, New Taipei, Toayuan, Keelung\")"
   ]
  },
  {
   "cell_type": "markdown",
   "metadata": {},
   "source": [
    "### Structured Output Parser\n",
    "\n",
    "We can use this parser to generate JSON file data structure"
   ]
  },
  {
   "cell_type": "code",
   "execution_count": 2,
   "metadata": {},
   "outputs": [
    {
     "name": "stdout",
     "output_type": "stream",
     "text": [
      "{'input': 'What a lovely day!', 'output': 'positive'}\n"
     ]
    }
   ],
   "source": [
    "from langchain.output_parsers import StructuredOutputParser, ResponseSchema\n",
    "from langchain.prompts import PromptTemplate\n",
    "from langchain.chat_models import ChatOpenAI\n",
    "\n",
    "response_schemas = [\n",
    "    ResponseSchema(name=\"input\", description=\"user input\"),\n",
    "    ResponseSchema(name=\"output\", description=\"user text sentiment\")\n",
    "]\n",
    "output_parser = StructuredOutputParser.from_response_schemas(response_schemas)\n",
    "\n",
    "format_instructions = output_parser.get_format_instructions()\n",
    "\n",
    "prompt = PromptTemplate(\n",
    "    template=\"detect sentiment of user's text \\n{format_instructions}\\n{sentence}\",\n",
    "    input_variables=[\"sentence\"],\n",
    "    partial_variables={\"format_instructions\": format_instructions},\n",
    ")\n",
    "\n",
    "model = ChatOpenAI(temperature=0)\n",
    "chain = prompt | model | output_parser\n",
    "chain.invoke({\"sentence\":\"What a lovely day!\"})\n",
    "for s in chain.stream({\"sentence\":\"What a lovely day!\"}):\n",
    "    print(s)"
   ]
  }
 ],
 "metadata": {
  "kernelspec": {
   "display_name": "Python 3 (ipykernel)",
   "language": "python",
   "name": "python3"
  },
  "language_info": {
   "codemirror_mode": {
    "name": "ipython",
    "version": 3
   },
   "file_extension": ".py",
   "mimetype": "text/x-python",
   "name": "python",
   "nbconvert_exporter": "python",
   "pygments_lexer": "ipython3",
   "version": "3.11.9"
  }
 },
 "nbformat": 4,
 "nbformat_minor": 2
}
